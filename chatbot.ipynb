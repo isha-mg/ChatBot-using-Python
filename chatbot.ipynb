{
  "nbformat": 4,
  "nbformat_minor": 0,
  "metadata": {
    "colab": {
      "provenance": [],
      "mount_file_id": "1EFtJMDek4PxJxfpTkdc58mim_N91hTZQ",
      "authorship_tag": "ABX9TyNlhhkvI0nLxliEhKN7hUcJ",
      "include_colab_link": true
    },
    "kernelspec": {
      "name": "python3",
      "display_name": "Python 3"
    },
    "language_info": {
      "name": "python"
    }
  },
  "cells": [
    {
      "cell_type": "markdown",
      "metadata": {
        "id": "view-in-github",
        "colab_type": "text"
      },
      "source": [
        "<a href=\"https://colab.research.google.com/github/isha-mg/ChatBot-using-Python/blob/main/chatbot.ipynb\" target=\"_parent\"><img src=\"https://colab.research.google.com/assets/colab-badge.svg\" alt=\"Open In Colab\"/></a>"
      ]
    },
    {
      "cell_type": "markdown",
      "source": [
        "TASK - 1\n",
        "ChatBot using Python"
      ],
      "metadata": {
        "id": "z-hv97DHn0dm"
      }
    },
    {
      "cell_type": "code",
      "execution_count": null,
      "metadata": {
        "colab": {
          "base_uri": "https://localhost:8080/"
        },
        "id": "sC6ttFx-qyaY",
        "outputId": "ebcc3757-2a51-445d-e900-2acd28998c38"
      },
      "outputs": [
        {
          "output_type": "stream",
          "name": "stderr",
          "text": [
            "/usr/local/lib/python3.8/dist-packages/torch/cuda/__init__.py:497: UserWarning: Can't initialize NVML\n",
            "  warnings.warn(\"Can't initialize NVML\")\n"
          ]
        }
      ],
      "source": [
        "import numpy as np\n",
        "import json\n",
        "import re\n",
        "import tensorflow as tf\n",
        "import random\n",
        "import spacy\n",
        "nlp = spacy.load('en_core_web_sm')"
      ]
    },
    {
      "cell_type": "code",
      "source": [
        "from google.colab import drive\n",
        "drive.mount('/content/drive')"
      ],
      "metadata": {
        "colab": {
          "base_uri": "https://localhost:8080/"
        },
        "id": "cXNbxg5Hsb64",
        "outputId": "2cdfe90a-2b65-4c81-eead-effa23d33341"
      },
      "execution_count": null,
      "outputs": [
        {
          "output_type": "stream",
          "name": "stdout",
          "text": [
            "Drive already mounted at /content/drive; to attempt to forcibly remount, call drive.mount(\"/content/drive\", force_remount=True).\n"
          ]
        }
      ]
    },
    {
      "cell_type": "code",
      "source": [
        "with open('/content/drive/MyDrive/Colab Notebooks/data_set1/Intent1.json') as f:\n",
        "    intents = json.load(f)"
      ],
      "metadata": {
        "id": "pxqXnugjrnxw"
      },
      "execution_count": 27,
      "outputs": []
    },
    {
      "cell_type": "code",
      "source": [
        "def preprocessing(line):\n",
        "    line = re.sub(r'[^a-zA-z.?!\\']', ' ', line)\n",
        "    line = re.sub(r'[ ]+', ' ', line)\n",
        "    return line"
      ],
      "metadata": {
        "id": "6NCAd0KWsxF_"
      },
      "execution_count": 28,
      "outputs": []
    },
    {
      "cell_type": "code",
      "source": [
        "inputs, targets = [], []\n",
        "classes = []\n",
        "intent_doc = {}\n",
        "\n",
        "for intent in intents['intents']:\n",
        "    if intent['intent'] not in classes:\n",
        "        classes.append(intent['intent'])\n",
        "    if intent['intent'] not in intent_doc:\n",
        "        intent_doc[intent['intent']] = []\n",
        "        \n",
        "    for text in intent['text']:\n",
        "        inputs.append(preprocessing(text))\n",
        "        targets.append(intent['intent'])\n",
        "        \n",
        "    for response in intent['responses']:\n",
        "        intent_doc[intent['intent']].append(response)"
      ],
      "metadata": {
        "id": "ELRZzgxCsz9q"
      },
      "execution_count": 29,
      "outputs": []
    },
    {
      "cell_type": "code",
      "source": [
        "def tokenize_data(input_list):\n",
        "    tokenizer = tf.keras.preprocessing.text.Tokenizer(filters='', oov_token='<unk>')\n",
        "    \n",
        "    tokenizer.fit_on_texts(input_list)\n",
        "    \n",
        "    input_seq = tokenizer.texts_to_sequences(input_list)\n",
        "\n",
        "    input_seq = tf.keras.preprocessing.sequence.pad_sequences(input_seq, padding='pre')\n",
        "    \n",
        "    return tokenizer, input_seq\n",
        "\n",
        "# preprocess input data\n",
        "tokenizer, input_tensor = tokenize_data(inputs)"
      ],
      "metadata": {
        "id": "TDZceO6Ps2On"
      },
      "execution_count": 30,
      "outputs": []
    },
    {
      "cell_type": "code",
      "source": [
        "def create_categorical_target(targets):\n",
        "    word={}\n",
        "    categorical_target=[]\n",
        "    counter=0\n",
        "    for trg in targets:\n",
        "        if trg not in word:\n",
        "            word[trg]=counter\n",
        "            counter+=1\n",
        "        categorical_target.append(word[trg])\n",
        "    \n",
        "    categorical_tensor = tf.keras.utils.to_categorical(categorical_target, num_classes=len(word), dtype='int32')\n",
        "    return categorical_tensor, dict((v,k) for k, v in word.items())\n",
        "\n",
        "# preprocess output data\n",
        "target_tensor, trg_index_word = create_categorical_target(targets)"
      ],
      "metadata": {
        "id": "FCpfAxwAs48G"
      },
      "execution_count": 31,
      "outputs": []
    },
    {
      "cell_type": "code",
      "source": [
        "print('input shape: {} and output shape: {}'.format(input_tensor.shape, target_tensor.shape))"
      ],
      "metadata": {
        "colab": {
          "base_uri": "https://localhost:8080/"
        },
        "id": "zMxOxFHLs7fe",
        "outputId": "246ef318-141b-4b1f-92e4-65a7f0a84b7e"
      },
      "execution_count": 32,
      "outputs": [
        {
          "output_type": "stream",
          "name": "stdout",
          "text": [
            "input shape: (146, 9) and output shape: (146, 23)\n"
          ]
        }
      ]
    },
    {
      "cell_type": "code",
      "source": [
        "epochs=50\n",
        "vocab_size=len(tokenizer.word_index) + 1\n",
        "embed_dim=512\n",
        "units=128\n",
        "target_length=target_tensor.shape[1]"
      ],
      "metadata": {
        "id": "CxK0EejEs-gN"
      },
      "execution_count": 34,
      "outputs": []
    },
    {
      "cell_type": "code",
      "source": [
        "model = tf.keras.models.Sequential([\n",
        "    tf.keras.layers.Embedding(vocab_size, embed_dim),\n",
        "    tf.keras.layers.Bidirectional(tf.keras.layers.LSTM(units, dropout=0.2)),\n",
        "    tf.keras.layers.Dense(units, activation='relu'),\n",
        "    tf.keras.layers.Dropout(0.5),\n",
        "    tf.keras.layers.Dense(target_length, activation='softmax')\n",
        "])\n",
        "\n",
        "optimizer = tf.keras.optimizers.Adam(lr=1e-2)\n",
        "model.compile(optimizer=optimizer, loss='categorical_crossentropy', metrics=['accuracy'])\n",
        "model.summary()"
      ],
      "metadata": {
        "colab": {
          "base_uri": "https://localhost:8080/"
        },
        "id": "bFCpTBg_tBdX",
        "outputId": "d93ffb58-cd21-41bd-e489-1b3a2d12b4ea"
      },
      "execution_count": 35,
      "outputs": [
        {
          "output_type": "stream",
          "name": "stderr",
          "text": [
            "WARNING:absl:`lr` is deprecated, please use `learning_rate` instead, or use the legacy optimizer, e.g.,tf.keras.optimizers.legacy.Adam.\n"
          ]
        },
        {
          "output_type": "stream",
          "name": "stdout",
          "text": [
            "Model: \"sequential_2\"\n",
            "_________________________________________________________________\n",
            " Layer (type)                Output Shape              Param #   \n",
            "=================================================================\n",
            " embedding_2 (Embedding)     (None, None, 512)         67584     \n",
            "                                                                 \n",
            " bidirectional_2 (Bidirectio  (None, 256)              656384    \n",
            " nal)                                                            \n",
            "                                                                 \n",
            " dense_4 (Dense)             (None, 128)               32896     \n",
            "                                                                 \n",
            " dropout_2 (Dropout)         (None, 128)               0         \n",
            "                                                                 \n",
            " dense_5 (Dense)             (None, 23)                2967      \n",
            "                                                                 \n",
            "=================================================================\n",
            "Total params: 759,831\n",
            "Trainable params: 759,831\n",
            "Non-trainable params: 0\n",
            "_________________________________________________________________\n"
          ]
        }
      ]
    },
    {
      "cell_type": "code",
      "source": [
        "early_stop = tf.keras.callbacks.EarlyStopping(monitor='loss', patience=4)\n",
        "\n",
        "# train the model\n",
        "model.fit(input_tensor, target_tensor, epochs=epochs, callbacks=[early_stop])"
      ],
      "metadata": {
        "colab": {
          "base_uri": "https://localhost:8080/"
        },
        "id": "vQ31Kv7LtBoG",
        "outputId": "846e9a36-4f14-40de-973b-b5c56e8005e3"
      },
      "execution_count": 36,
      "outputs": [
        {
          "output_type": "stream",
          "name": "stdout",
          "text": [
            "Epoch 1/50\n",
            "5/5 [==============================] - 5s 79ms/step - loss: 3.1362 - accuracy: 0.0479\n",
            "Epoch 2/50\n",
            "5/5 [==============================] - 0s 68ms/step - loss: 3.0898 - accuracy: 0.1096\n",
            "Epoch 3/50\n",
            "5/5 [==============================] - 0s 67ms/step - loss: 3.0497 - accuracy: 0.1849\n",
            "Epoch 4/50\n",
            "5/5 [==============================] - 0s 66ms/step - loss: 2.9735 - accuracy: 0.2055\n",
            "Epoch 5/50\n",
            "5/5 [==============================] - 0s 64ms/step - loss: 2.8628 - accuracy: 0.2466\n",
            "Epoch 6/50\n",
            "5/5 [==============================] - 0s 66ms/step - loss: 2.7546 - accuracy: 0.3014\n",
            "Epoch 7/50\n",
            "5/5 [==============================] - 0s 64ms/step - loss: 2.5857 - accuracy: 0.3288\n",
            "Epoch 8/50\n",
            "5/5 [==============================] - 0s 64ms/step - loss: 2.3793 - accuracy: 0.3288\n",
            "Epoch 9/50\n",
            "5/5 [==============================] - 0s 65ms/step - loss: 2.1205 - accuracy: 0.3904\n",
            "Epoch 10/50\n",
            "5/5 [==============================] - 0s 67ms/step - loss: 1.9464 - accuracy: 0.4452\n",
            "Epoch 11/50\n",
            "5/5 [==============================] - 0s 63ms/step - loss: 1.7156 - accuracy: 0.5342\n",
            "Epoch 12/50\n",
            "5/5 [==============================] - 0s 68ms/step - loss: 1.4771 - accuracy: 0.6301\n",
            "Epoch 13/50\n",
            "5/5 [==============================] - 0s 73ms/step - loss: 1.2936 - accuracy: 0.6370\n",
            "Epoch 14/50\n",
            "5/5 [==============================] - 0s 66ms/step - loss: 1.1391 - accuracy: 0.6507\n",
            "Epoch 15/50\n",
            "5/5 [==============================] - 1s 107ms/step - loss: 1.1646 - accuracy: 0.6301\n",
            "Epoch 16/50\n",
            "5/5 [==============================] - 1s 106ms/step - loss: 0.8619 - accuracy: 0.7466\n",
            "Epoch 17/50\n",
            "5/5 [==============================] - 1s 109ms/step - loss: 0.6763 - accuracy: 0.8082\n",
            "Epoch 18/50\n",
            "5/5 [==============================] - 1s 114ms/step - loss: 0.5111 - accuracy: 0.9110\n",
            "Epoch 19/50\n",
            "5/5 [==============================] - 1s 111ms/step - loss: 0.4824 - accuracy: 0.8425\n",
            "Epoch 20/50\n",
            "5/5 [==============================] - 1s 116ms/step - loss: 0.3946 - accuracy: 0.8836\n",
            "Epoch 21/50\n",
            "5/5 [==============================] - 1s 110ms/step - loss: 0.3314 - accuracy: 0.9041\n",
            "Epoch 22/50\n",
            "5/5 [==============================] - 1s 112ms/step - loss: 0.2448 - accuracy: 0.9384\n",
            "Epoch 23/50\n",
            "5/5 [==============================] - 0s 68ms/step - loss: 0.2047 - accuracy: 0.9726\n",
            "Epoch 24/50\n",
            "5/5 [==============================] - 0s 63ms/step - loss: 0.2723 - accuracy: 0.9247\n",
            "Epoch 25/50\n",
            "5/5 [==============================] - 0s 66ms/step - loss: 0.1885 - accuracy: 0.9658\n",
            "Epoch 26/50\n",
            "5/5 [==============================] - 0s 72ms/step - loss: 0.1488 - accuracy: 0.9726\n",
            "Epoch 27/50\n",
            "5/5 [==============================] - 0s 62ms/step - loss: 0.1697 - accuracy: 0.9658\n",
            "Epoch 28/50\n",
            "5/5 [==============================] - 0s 62ms/step - loss: 0.1153 - accuracy: 0.9795\n",
            "Epoch 29/50\n",
            "5/5 [==============================] - 0s 65ms/step - loss: 0.0924 - accuracy: 0.9863\n",
            "Epoch 30/50\n",
            "5/5 [==============================] - 0s 67ms/step - loss: 0.0847 - accuracy: 0.9795\n",
            "Epoch 31/50\n",
            "5/5 [==============================] - 0s 65ms/step - loss: 0.0754 - accuracy: 0.9863\n",
            "Epoch 32/50\n",
            "5/5 [==============================] - 0s 70ms/step - loss: 0.0600 - accuracy: 1.0000\n",
            "Epoch 33/50\n",
            "5/5 [==============================] - 0s 67ms/step - loss: 0.0833 - accuracy: 0.9795\n",
            "Epoch 34/50\n",
            "5/5 [==============================] - 0s 65ms/step - loss: 0.0545 - accuracy: 0.9863\n",
            "Epoch 35/50\n",
            "5/5 [==============================] - 0s 63ms/step - loss: 0.0379 - accuracy: 0.9932\n",
            "Epoch 36/50\n",
            "5/5 [==============================] - 0s 62ms/step - loss: 0.0362 - accuracy: 1.0000\n",
            "Epoch 37/50\n",
            "5/5 [==============================] - 0s 63ms/step - loss: 0.0361 - accuracy: 1.0000\n",
            "Epoch 38/50\n",
            "5/5 [==============================] - 0s 69ms/step - loss: 0.0403 - accuracy: 0.9932\n",
            "Epoch 39/50\n",
            "5/5 [==============================] - 0s 67ms/step - loss: 0.0305 - accuracy: 1.0000\n",
            "Epoch 40/50\n",
            "5/5 [==============================] - 0s 61ms/step - loss: 0.0231 - accuracy: 1.0000\n",
            "Epoch 41/50\n",
            "5/5 [==============================] - 0s 68ms/step - loss: 0.0317 - accuracy: 1.0000\n",
            "Epoch 42/50\n",
            "5/5 [==============================] - 0s 64ms/step - loss: 0.0184 - accuracy: 1.0000\n",
            "Epoch 43/50\n",
            "5/5 [==============================] - 0s 68ms/step - loss: 0.0189 - accuracy: 1.0000\n",
            "Epoch 44/50\n",
            "5/5 [==============================] - 0s 67ms/step - loss: 0.0264 - accuracy: 1.0000\n",
            "Epoch 45/50\n",
            "5/5 [==============================] - 0s 63ms/step - loss: 0.0192 - accuracy: 1.0000\n",
            "Epoch 46/50\n",
            "5/5 [==============================] - 0s 64ms/step - loss: 0.0271 - accuracy: 0.9932\n"
          ]
        },
        {
          "output_type": "execute_result",
          "data": {
            "text/plain": [
              "<keras.callbacks.History at 0x7fec25546400>"
            ]
          },
          "metadata": {},
          "execution_count": 36
        }
      ]
    },
    {
      "cell_type": "code",
      "source": [
        "def response(sentence):\n",
        "    sent_seq = []\n",
        "    doc = nlp(repr(sentence))\n",
        "    \n",
        "    # split the input sentences into words\n",
        "    for token in doc:\n",
        "        if token.text in tokenizer.word_index:\n",
        "            sent_seq.append(tokenizer.word_index[token.text])\n",
        "\n",
        "        # handle the unknown words error\n",
        "        else:\n",
        "            sent_seq.append(tokenizer.word_index['<unk>'])\n",
        "\n",
        "    sent_seq = tf.expand_dims(sent_seq, 0)\n",
        "    # predict the category of input sentences\n",
        "    pred = model(sent_seq)\n",
        "\n",
        "    pred_class = np.argmax(pred.numpy(), axis=1)\n",
        "    \n",
        "    # choice a random response for predicted sentence\n",
        "    return random.choice(intent_doc[trg_index_word[pred_class[0]]]), trg_index_word[pred_class[0]]\n",
        "\n",
        "# chat with bot\n",
        "print(\"Note: Enter 'quit' to break the loop.\")\n",
        "while True:\n",
        "    input_ = input('You: ')\n",
        "    if input_.lower() == 'quit':\n",
        "        break\n",
        "    res, typ = response(input_)\n",
        "    print('Bot: {} -- TYPE: {}'.format(res, typ))\n",
        "    print()"
      ],
      "metadata": {
        "colab": {
          "base_uri": "https://localhost:8080/"
        },
        "id": "1wbWW1uXt7gl",
        "outputId": "5115dceb-d16d-4a43-8bee-b17278af8016"
      },
      "execution_count": 37,
      "outputs": [
        {
          "name": "stdout",
          "output_type": "stream",
          "text": [
            "Note: Enter 'quit' to break the loop.\n",
            "You: hola\n",
            "Bot: Hi human, please tell me your GeniSys user -- TYPE: Greeting\n",
            "\n",
            "You: how are you ?\n",
            "Bot: Hi, how are you? I am great thanks! Please tell me your GeniSys user -- TYPE: CourtesyGreeting\n",
            "\n",
            "You: what is your name?\n",
            "Bot: GeniSys -- TYPE: RealNameQuery\n",
            "\n",
            "You: can you tell me if you are self aware\n",
            "Bot: That depends, can you prove that you are? -- TYPE: SelfAware\n",
            "\n",
            "You: tell me a joke\n",
            "Bot: Waiter, what is this stuff? That's bean salad sir. I know what it's been, but what is it now? -- TYPE: Jokes\n",
            "\n",
            "You: what is your favourite movie\n",
            "Bot: My favourite movie is 3 Idiots -- TYPE: Movie\n",
            "\n",
            "You: can you make a tea\n",
            "Bot: That depends, can you prove that you are? -- TYPE: SelfAware\n",
            "\n",
            "You: quit\n"
          ]
        }
      ]
    }
  ]
}